{
 "cells": [
  {
   "cell_type": "code",
   "execution_count": 4,
   "id": "b051c097-f75f-4b48-b552-71d978fd1c19",
   "metadata": {
    "tags": []
   },
   "outputs": [
    {
     "name": "stdout",
     "output_type": "stream",
     "text": [
      "/home/ec2-user/SageMaker/data\n"
     ]
    }
   ],
   "source": [
    "!pwd"
   ]
  },
  {
   "cell_type": "code",
   "execution_count": 5,
   "id": "58e17716-3d51-42d1-927a-8a8cb6ca3352",
   "metadata": {
    "tags": []
   },
   "outputs": [],
   "source": [
    "import os\n",
    "os.chdir('/home/ec2-user/SageMaker/')"
   ]
  },
  {
   "cell_type": "code",
   "execution_count": 1,
   "id": "61e62d2e-929f-494a-9bc6-2c198e100a3d",
   "metadata": {
    "tags": []
   },
   "outputs": [],
   "source": [
    "import pandas as pd\n",
    "import numpy as np"
   ]
  },
  {
   "cell_type": "code",
   "execution_count": 6,
   "id": "c5a7dcdc-a99c-4394-94bf-9d0a691cb20e",
   "metadata": {
    "tags": []
   },
   "outputs": [],
   "source": [
    "data = pd.read_csv('data/train.csv')\n"
   ]
  },
  {
   "cell_type": "code",
   "execution_count": 7,
   "id": "c4a2f77d-d0f8-4011-9161-39358151e10a",
   "metadata": {
    "tags": []
   },
   "outputs": [
    {
     "data": {
      "text/html": [
       "<div>\n",
       "<style scoped>\n",
       "    .dataframe tbody tr th:only-of-type {\n",
       "        vertical-align: middle;\n",
       "    }\n",
       "\n",
       "    .dataframe tbody tr th {\n",
       "        vertical-align: top;\n",
       "    }\n",
       "\n",
       "    .dataframe thead th {\n",
       "        text-align: right;\n",
       "    }\n",
       "</style>\n",
       "<table border=\"1\" class=\"dataframe\">\n",
       "  <thead>\n",
       "    <tr style=\"text-align: right;\">\n",
       "      <th></th>\n",
       "      <th>prompt</th>\n",
       "    </tr>\n",
       "  </thead>\n",
       "  <tbody>\n",
       "    <tr>\n",
       "      <th>0</th>\n",
       "      <td>man waking up, dark and still room, cinematic ...</td>\n",
       "    </tr>\n",
       "    <tr>\n",
       "      <th>1</th>\n",
       "      <td>Yate con familia feliz navegando por el mar ca...</td>\n",
       "    </tr>\n",
       "    <tr>\n",
       "      <th>2</th>\n",
       "      <td>Many friendly alien race individuals. fantasy,...</td>\n",
       "    </tr>\n",
       "    <tr>\n",
       "      <th>3</th>\n",
       "      <td>theo james as cyclops, cyberpunk futuristic ne...</td>\n",
       "    </tr>\n",
       "    <tr>\n",
       "      <th>4</th>\n",
       "      <td>Portrait of a beautiful woman with long hair o...</td>\n",
       "    </tr>\n",
       "  </tbody>\n",
       "</table>\n",
       "</div>"
      ],
      "text/plain": [
       "                                              prompt\n",
       "0  man waking up, dark and still room, cinematic ...\n",
       "1  Yate con familia feliz navegando por el mar ca...\n",
       "2  Many friendly alien race individuals. fantasy,...\n",
       "3  theo james as cyclops, cyberpunk futuristic ne...\n",
       "4  Portrait of a beautiful woman with long hair o..."
      ]
     },
     "execution_count": 7,
     "metadata": {},
     "output_type": "execute_result"
    }
   ],
   "source": [
    "data.head()"
   ]
  },
  {
   "cell_type": "markdown",
   "id": "6ecee8a5-a31d-4b5a-9253-60196027f2e4",
   "metadata": {},
   "source": [
    "# Dataset size"
   ]
  },
  {
   "cell_type": "code",
   "execution_count": 8,
   "id": "74b7b4af-477e-4ee6-8960-a45e8ef0a582",
   "metadata": {
    "tags": []
   },
   "outputs": [
    {
     "data": {
      "text/plain": [
       "(726362, 1)"
      ]
     },
     "execution_count": 8,
     "metadata": {},
     "output_type": "execute_result"
    }
   ],
   "source": [
    "data.shape"
   ]
  },
  {
   "cell_type": "code",
   "execution_count": 18,
   "id": "1b33e76c-0b17-4807-8118-198afda293a0",
   "metadata": {
    "tags": []
   },
   "outputs": [],
   "source": [
    "data = data.astype('str')"
   ]
  },
  {
   "cell_type": "markdown",
   "id": "797563cf-dd8d-4bc4-82d7-b7cd63cdbbc6",
   "metadata": {},
   "source": [
    "# Text/ paragraph length distribution"
   ]
  },
  {
   "cell_type": "code",
   "execution_count": 12,
   "id": "de690c60-251c-4e32-851e-324da7b1485d",
   "metadata": {
    "tags": []
   },
   "outputs": [],
   "source": [
    "data[\"prompt_length\"] = data['prompt'].apply(len)"
   ]
  },
  {
   "cell_type": "code",
   "execution_count": 16,
   "id": "b90c8f84-8fd5-42a4-af96-4518c2932bf5",
   "metadata": {
    "tags": []
   },
   "outputs": [
    {
     "data": {
      "text/plain": [
       "<Axes: ylabel='Frequency'>"
      ]
     },
     "execution_count": 16,
     "metadata": {},
     "output_type": "execute_result"
    },
    {
     "data": {
      "image/png": "[encoded data removed]",
      "text/plain": [
       "<Figure size 640x480 with 1 Axes>"
      ]
     },
     "metadata": {},
     "output_type": "display_data"
    }
   ],
   "source": [
    "data[\"prompt_length\"].plot.hist()"
   ]
  },
  {
   "cell_type": "markdown",
   "id": "4723f492-caa7-4587-bd27-b41c162dd12d",
   "metadata": {},
   "source": [
    "# Word count "
   ]
  },
  {
   "cell_type": "code",
   "execution_count": 22,
   "id": "9511d432-b86a-414e-adc2-71e6986d6cf1",
   "metadata": {
    "tags": []
   },
   "outputs": [],
   "source": [
    "def word_count(text):\n",
    "    # Split the text by whitespace and count the resulting list's length\n",
    "    return len(text.split())\n",
    "\n",
    "# Apply the function to the 'text' column and create a new column 'word_count'\n",
    "data['word_count'] = data['prompt'].apply(word_count)"
   ]
  },
  {
   "cell_type": "code",
   "execution_count": 23,
   "id": "00adc347-a5ec-4a87-ad68-b56895df4c95",
   "metadata": {
    "tags": []
   },
   "outputs": [
    {
     "data": {
      "text/plain": [
       "count    726362.000000\n",
       "mean         19.729982\n",
       "std          21.468646\n",
       "min           1.000000\n",
       "25%           7.000000\n",
       "50%          14.000000\n",
       "75%          28.000000\n",
       "max        1163.000000\n",
       "Name: word_count, dtype: float64"
      ]
     },
     "execution_count": 23,
     "metadata": {},
     "output_type": "execute_result"
    }
   ],
   "source": [
    "data[\"word_count\"].describe()"
   ]
  },
  {
   "cell_type": "markdown",
   "id": "f682b180-194b-4531-83cd-2159bc4bd637",
   "metadata": {},
   "source": [
    "# Analyse tokenization pattern"
   ]
  },
  {
   "cell_type": "code",
   "execution_count": 25,
   "id": "35fd4f21-aab0-4a06-9d85-591545a816bb",
   "metadata": {
    "tags": []
   },
   "outputs": [
    {
     "name": "stderr",
     "output_type": "stream",
     "text": [
      "[nltk_data] Downloading package punkt to /home/ec2-user/nltk_data...\n",
      "[nltk_data]   Unzipping tokenizers/punkt.zip.\n"
     ]
    },
    {
     "data": {
      "text/plain": [
       "True"
      ]
     },
     "execution_count": 25,
     "metadata": {},
     "output_type": "execute_result"
    }
   ],
   "source": [
    "import nltk\n",
    "nltk.download('punkt')\n"
   ]
  },
  {
   "cell_type": "code",
   "execution_count": 26,
   "id": "b388dbcc-35ec-4f99-8882-a35ee0d1ba4d",
   "metadata": {
    "tags": []
   },
   "outputs": [],
   "source": [
    "from collections import Counter\n",
    "def tokenize_text(text):\n",
    "    return nltk.word_tokenize(text)\n",
    "\n",
    "# Apply tokenization to the text column\n",
    "data['tokens'] = data['prompt'].apply(tokenize_text)\n",
    "\n",
    "# Flatten the list of tokens and count frequency\n",
    "all_tokens = [token for sublist in data['tokens'] for token in sublist]\n",
    "token_counts = Counter(all_tokens)\n",
    "\n",
    "# Convert to DataFrame for easy manipulation\n",
    "token_df = pd.DataFrame(token_counts.items(), columns=['token', 'count'])"
   ]
  },
  {
   "cell_type": "code",
   "execution_count": 28,
   "id": "799acfc2-72a1-4eaa-888b-39dbf06f0e3c",
   "metadata": {
    "tags": []
   },
   "outputs": [
    {
     "data": {
      "image/png": "[encoded data removed]",
      "text/plain": [
       "<Figure size 1200x600 with 1 Axes>"
      ]
     },
     "metadata": {},
     "output_type": "display_data"
    }
   ],
   "source": [
    "import matplotlib.pyplot as plt\n",
    "import seaborn as sns\n",
    "\n",
    "plt.figure(figsize=(12, 6))\n",
    "sns.barplot(x='token', y='count', data=token_df.sort_values(by='count', ascending=False).head(20))\n",
    "plt.title('Top 20 Token Distribution')\n",
    "plt.xlabel('Token')\n",
    "plt.ylabel('Count')\n",
    "plt.xticks(rotation=45)\n",
    "plt.show()"
   ]
  },
  {
   "cell_type": "markdown",
   "id": "9e90ed67-3443-4f96-b069-27fceb2d3067",
   "metadata": {},
   "source": [
    "# Topic modeling"
   ]
  },
  {
   "cell_type": "code",
   "execution_count": 29,
   "id": "36674208-b156-463a-a994-502bbd1f9d3b",
   "metadata": {
    "tags": []
   },
   "outputs": [
    {
     "name": "stderr",
     "output_type": "stream",
     "text": [
      "[nltk_data] Downloading package stopwords to\n",
      "[nltk_data]     /home/ec2-user/nltk_data...\n",
      "[nltk_data]   Unzipping corpora/stopwords.zip.\n",
      "[nltk_data] Downloading package punkt to /home/ec2-user/nltk_data...\n",
      "[nltk_data]   Package punkt is already up-to-date!\n"
     ]
    },
    {
     "data": {
      "text/plain": [
       "True"
      ]
     },
     "execution_count": 29,
     "metadata": {},
     "output_type": "execute_result"
    }
   ],
   "source": [
    "import nltk\n",
    "nltk.download('stopwords')\n",
    "nltk.download('punkt')\n"
   ]
  },
  {
   "cell_type": "code",
   "execution_count": 31,
   "id": "ef4d2009-61e8-4601-9b58-7245683f3235",
   "metadata": {
    "collapsed": true,
    "jupyter": {
     "outputs_hidden": true
    },
    "tags": []
   },
   "outputs": [
    {
     "name": "stdout",
     "output_type": "stream",
     "text": [
      "Collecting gensim\n",
      "  Downloading gensim-4.3.2-cp310-cp310-manylinux_2_17_x86_64.manylinux2014_x86_64.whl.metadata (8.4 kB)\n",
      "Requirement already satisfied: numpy>=1.18.5 in /home/ec2-user/anaconda3/envs/python3/lib/python3.10/site-packages (from gensim) (1.22.4)\n",
      "Requirement already satisfied: scipy>=1.7.0 in /home/ec2-user/anaconda3/envs/python3/lib/python3.10/site-packages (from gensim) (1.12.0)\n",
      "Collecting smart-open>=1.8.1 (from gensim)\n",
      "  Downloading smart_open-7.0.4-py3-none-any.whl.metadata (23 kB)\n",
      "Requirement already satisfied: wrapt in /home/ec2-user/anaconda3/envs/python3/lib/python3.10/site-packages (from smart-open>=1.8.1->gensim) (1.16.0)\n",
      "Downloading gensim-4.3.2-cp310-cp310-manylinux_2_17_x86_64.manylinux2014_x86_64.whl (26.5 MB)\n",
      "\u001b[2K   \u001b[90m━━━━━━━━━━━━━━━━━━━━━━━━━━━━━━━━━━━━━━━━\u001b[0m \u001b[32m26.5/26.5 MB\u001b[0m \u001b[31m23.0 MB/s\u001b[0m eta \u001b[36m0:00:00\u001b[0m:00:01\u001b[0m00:01\u001b[0m\n",
      "\u001b[?25hDownloading smart_open-7.0.4-py3-none-any.whl (61 kB)\n",
      "\u001b[2K   \u001b[90m━━━━━━━━━━━━━━━━━━━━━━━━━━━━━━━━━━━━━━━━\u001b[0m \u001b[32m61.2/61.2 kB\u001b[0m \u001b[31m7.3 MB/s\u001b[0m eta \u001b[36m0:00:00\u001b[0m\n",
      "\u001b[?25hInstalling collected packages: smart-open, gensim\n",
      "Successfully installed gensim-4.3.2 smart-open-7.0.4\n"
     ]
    }
   ],
   "source": [
    "!pip install gensim"
   ]
  },
  {
   "cell_type": "code",
   "execution_count": null,
   "id": "f2adc615-0e96-470b-b097-ce0b8e490f71",
   "metadata": {
    "tags": []
   },
   "outputs": [],
   "source": [
    "import pandas as pd\n",
    "import nltk\n",
    "from nltk.corpus import stopwords\n",
    "from nltk.tokenize import word_tokenize\n",
    "from gensim import corpora\n",
    "from gensim.models import LdaModel\n",
    "from gensim.models.coherencemodel import CoherenceModel\n",
    "\n",
    "\n",
    "# Preprocessing function\n",
    "def preprocess_text(text):\n",
    "    stop_words = set(stopwords.words('english'))\n",
    "    tokens = word_tokenize(text.lower())\n",
    "    filtered_tokens = [word for word in tokens if word.isalnum() and word not in stop_words]\n",
    "    return filtered_tokens\n",
    "\n",
    "# Apply preprocessing to the text column\n",
    "data['processed_text'] = data['prompt'].apply(preprocess_text)\n",
    "\n",
    "# Create a dictionary and corpus\n",
    "dictionary = corpora.Dictionary(data['processed_text'])\n",
    "corpus = [dictionary.doc2bow(text) for text in data['processed_text']]\n",
    "\n",
    "# Train LDA model\n",
    "lda_model = LdaModel(corpus, num_topics=2, id2word=dictionary, passes=10)\n",
    "\n",
    "# Print the topics\n",
    "for idx, topic in lda_model.print_topics(-1):\n",
    "    print(f\"Topic: {idx} \\nWords: {topic}\\n\")\n",
    "\n",
    "# Compute coherence score\n",
    "coherence_model_lda = CoherenceModel(model=lda_model, texts=data['processed_text'], dictionary=dictionary, coherence='c_v')\n",
    "coherence_lda = coherence_model_lda.get_coherence()\n",
    "print(f'Coherence Score: {coherence_lda}')\n"
   ]
  },
  {
   "cell_type": "code",
   "execution_count": null,
   "id": "1c385cea-c0e7-46c2-8487-a7d42d71171b",
   "metadata": {},
   "outputs": [],
   "source": []
  }
 ],
 "metadata": {
  "kernelspec": {
   "display_name": "conda_python3",
   "language": "python",
   "name": "conda_python3"
  },
  "language_info": {
   "codemirror_mode": {
    "name": "ipython",
    "version": 3
   },
   "file_extension": ".py",
   "mimetype": "text/x-python",
   "name": "python",
   "nbconvert_exporter": "python",
   "pygments_lexer": "ipython3",
   "version": "3.10.14"
  }
 },
 "nbformat": 4,
 "nbformat_minor": 5
}
