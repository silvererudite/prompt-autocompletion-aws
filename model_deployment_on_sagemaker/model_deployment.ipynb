{
 "cells": [
  {
   "cell_type": "markdown",
   "id": "fbda2cd4-9dde-453d-9351-9696523c5444",
   "metadata": {},
   "source": [
    "# Deploy model from Huggingface hub\n",
    "We previously trained our model and saved it on HuggingFace Hu, in order to deploy and use it on sagemaker, we will pull that model"
   ]
  },
  {
   "cell_type": "markdown",
   "id": "ce886269-954a-4776-899c-f560d313216f",
   "metadata": {},
   "source": [
    "# Initialize SageMaker and get the necessary roles and session"
   ]
  },
  {
   "cell_type": "code",
   "execution_count": 33,
   "id": "4cd92d0a-10b9-427f-b62c-2d4f64d21229",
   "metadata": {
    "tags": []
   },
   "outputs": [],
   "source": [
    "from sagemaker.huggingface.model import HuggingFaceModel\n",
    "import sagemaker\n",
    "sess = sagemaker.Session()\n",
    "role = sagemaker.get_execution_role()"
   ]
  },
  {
   "cell_type": "markdown",
   "id": "50bf46b6-522a-4261-835a-63d446fe5396",
   "metadata": {},
   "source": [
    "# Define the model id and task for the model"
   ]
  },
  {
   "cell_type": "code",
   "execution_count": 2,
   "id": "9f650f21-7835-4a8f-8361-55cc9ec403cf",
   "metadata": {
    "tags": []
   },
   "outputs": [],
   "source": [
    "hub = {\n",
    "  'HF_MODEL_ID':'Shamima/diffusion_prompt', # model_id from hf.co/models\n",
    "  'HF_TASK':'fill-mask'                           # NLP task you want to use for predictions\n",
    "}\n",
    "\n"
   ]
  },
  {
   "cell_type": "code",
   "execution_count": null,
   "id": "7006d1de-9a15-45e5-807f-f6b97d4a02e8",
   "metadata": {},
   "outputs": [],
   "source": []
  },
  {
   "cell_type": "code",
   "execution_count": 5,
   "id": "fce6261d-5efc-4237-9845-fcc188a535fd",
   "metadata": {
    "tags": []
   },
   "outputs": [],
   "source": [
    "\n",
    "huggingface_model = HuggingFaceModel(\n",
    "   env=hub,                                                # configuration for loading model from Hub\n",
    "   role=role,                                              # IAM role with permissions to create an endpoint\n",
    "   transformers_version=\"4.26\",                             # Transformers version used\n",
    "   pytorch_version=\"1.13\",                                  # PyTorch version used\n",
    "   py_version='py39',                                      # Python version used\n",
    ")\n",
    "\n"
   ]
  },
  {
   "cell_type": "code",
   "execution_count": 6,
   "id": "8b15500a-9bf5-49cc-b119-6001b9a62911",
   "metadata": {
    "tags": []
   },
   "outputs": [
    {
     "name": "stdout",
     "output_type": "stream",
     "text": [
      "-----!"
     ]
    }
   ],
   "source": [
    "# deploy model to SageMaker Inference\n",
    "predictor = huggingface_model.deploy(\n",
    "   initial_instance_count=1,\n",
    "   instance_type=\"ml.m5.xlarge\"\n",
    ")\n",
    "\n"
   ]
  },
  {
   "cell_type": "code",
   "execution_count": 31,
   "id": "1decaca9-fbe9-4189-aa4c-0dab48f9bb43",
   "metadata": {
    "tags": []
   },
   "outputs": [],
   "source": [
    "# example request: you always need to define \"inputs\"\n",
    "data = {\n",
    "\"inputs\":  \"A portrait of <mask>\",\n",
    "\n",
    "}\n",
    "\n"
   ]
  },
  {
   "cell_type": "code",
   "execution_count": 32,
   "id": "9f1dc900-2d14-4c37-b351-3de6200f1f8e",
   "metadata": {
    "tags": []
   },
   "outputs": [
    {
     "data": {
      "text/plain": [
       "[{'score': 0.02393978089094162,\n",
       "  'token': 10,\n",
       "  'token_str': ' a',\n",
       "  'sequence': 'A portrait of a'},\n",
       " {'score': 0.01910264603793621,\n",
       "  'token': 2864,\n",
       "  'token_str': ' herself',\n",
       "  'sequence': 'A portrait of herself'},\n",
       " {'score': 0.018882164731621742,\n",
       "  'token': 16423,\n",
       "  'token_str': ' Hitler',\n",
       "  'sequence': 'A portrait of Hitler'},\n",
       " {'score': 0.015032610855996609,\n",
       "  'token': 1003,\n",
       "  'token_str': ' himself',\n",
       "  'sequence': 'A portrait of himself'},\n",
       " {'score': 0.014200078323483467,\n",
       "  'token': 579,\n",
       "  'token_str': ' s',\n",
       "  'sequence': 'A portrait of s'}]"
      ]
     },
     "execution_count": 32,
     "metadata": {},
     "output_type": "execute_result"
    }
   ],
   "source": [
    "# request\n",
    "predictor.predict(data)"
   ]
  },
  {
   "cell_type": "code",
   "execution_count": null,
   "id": "8791eabe-1896-4107-a011-760ccfe79789",
   "metadata": {},
   "outputs": [],
   "source": []
  }
 ],
 "metadata": {
  "kernelspec": {
   "display_name": "conda_python3",
   "language": "python",
   "name": "conda_python3"
  },
  "language_info": {
   "codemirror_mode": {
    "name": "ipython",
    "version": 3
   },
   "file_extension": ".py",
   "mimetype": "text/x-python",
   "name": "python",
   "nbconvert_exporter": "python",
   "pygments_lexer": "ipython3",
   "version": "3.10.14"
  }
 },
 "nbformat": 4,
 "nbformat_minor": 5
}
