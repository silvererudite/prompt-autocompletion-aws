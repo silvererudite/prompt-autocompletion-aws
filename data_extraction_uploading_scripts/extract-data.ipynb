{
 "cells": [
  {
   "cell_type": "code",
   "execution_count": 2,
   "id": "6e11c996-5103-4386-bd4f-89f28805c622",
   "metadata": {
    "tags": []
   },
   "outputs": [],
   "source": [
    "import pandas as pd\n",
    "import numpy as np"
   ]
  },
  {
   "cell_type": "markdown",
   "id": "df47c4e4-c6a4-499d-bb84-90b34f2f7f0b",
   "metadata": {},
   "source": [
    "# Read and explore the dataset"
   ]
  },
  {
   "cell_type": "code",
   "execution_count": 3,
   "id": "541e3939-dd12-4a8c-9cf1-d50a7cd56035",
   "metadata": {
    "tags": []
   },
   "outputs": [],
   "source": [
    "data = pd.read_csv('data/diffusion_prompts.csv')"
   ]
  },
  {
   "cell_type": "code",
   "execution_count": 4,
   "id": "13653b62-2d00-43ed-b1b7-ca46b0309bde",
   "metadata": {
    "tags": []
   },
   "outputs": [
    {
     "data": {
      "text/html": [
       "<div>\n",
       "<style scoped>\n",
       "    .dataframe tbody tr th:only-of-type {\n",
       "        vertical-align: middle;\n",
       "    }\n",
       "\n",
       "    .dataframe tbody tr th {\n",
       "        vertical-align: top;\n",
       "    }\n",
       "\n",
       "    .dataframe thead th {\n",
       "        text-align: right;\n",
       "    }\n",
       "</style>\n",
       "<table border=\"1\" class=\"dataframe\">\n",
       "  <thead>\n",
       "    <tr style=\"text-align: right;\">\n",
       "      <th></th>\n",
       "      <th>Unnamed: 0</th>\n",
       "      <th>id</th>\n",
       "      <th>prompt</th>\n",
       "      <th>url</th>\n",
       "      <th>width</th>\n",
       "      <th>height</th>\n",
       "      <th>source_site</th>\n",
       "    </tr>\n",
       "  </thead>\n",
       "  <tbody>\n",
       "    <tr>\n",
       "      <th>0</th>\n",
       "      <td>0</td>\n",
       "      <td>00000d0e-45cb-47b6-9f72-6a481e940d78</td>\n",
       "      <td>man waking up, dark and still room, cinematic ...</td>\n",
       "      <td>https://krea-prod-v1-generations.s3.us-east-1....</td>\n",
       "      <td>512</td>\n",
       "      <td>512</td>\n",
       "      <td>stablediffusionweb.com</td>\n",
       "    </tr>\n",
       "    <tr>\n",
       "      <th>1</th>\n",
       "      <td>1</td>\n",
       "      <td>00001a8f-993f-4d69-8fd2-f7d69dc1e8ef</td>\n",
       "      <td>Yate con familia feliz navegando por el mar ca...</td>\n",
       "      <td>https://image.lexica.art/full_jpg/00001a8f-993...</td>\n",
       "      <td>640</td>\n",
       "      <td>640</td>\n",
       "      <td>lexica.art</td>\n",
       "    </tr>\n",
       "    <tr>\n",
       "      <th>2</th>\n",
       "      <td>2</td>\n",
       "      <td>00002cfc-8170-4a93-a1f8-aa5681cb5f71</td>\n",
       "      <td>Many friendly alien race individuals. fantasy,...</td>\n",
       "      <td>https://image.lexica.art/full_jpg/00002cfc-817...</td>\n",
       "      <td>512</td>\n",
       "      <td>768</td>\n",
       "      <td>lexica.art</td>\n",
       "    </tr>\n",
       "    <tr>\n",
       "      <th>3</th>\n",
       "      <td>3</td>\n",
       "      <td>00004467-fdef-41bc-bc73-20c68444a024</td>\n",
       "      <td>theo james as cyclops, cyberpunk futuristic ne...</td>\n",
       "      <td>https://image.lexica.art/full_jpg/00004467-fde...</td>\n",
       "      <td>512</td>\n",
       "      <td>768</td>\n",
       "      <td>lexica.art</td>\n",
       "    </tr>\n",
       "    <tr>\n",
       "      <th>4</th>\n",
       "      <td>4</td>\n",
       "      <td>000044ca-a4d7-46a2-81da-7ef3bf4cbeeb</td>\n",
       "      <td>Portrait of a beautiful woman with long hair o...</td>\n",
       "      <td>https://image.lexica.art/full_jpg/000044ca-a4d...</td>\n",
       "      <td>512</td>\n",
       "      <td>768</td>\n",
       "      <td>lexica.art</td>\n",
       "    </tr>\n",
       "  </tbody>\n",
       "</table>\n",
       "</div>"
      ],
      "text/plain": [
       "   Unnamed: 0                                    id  \\\n",
       "0           0  00000d0e-45cb-47b6-9f72-6a481e940d78   \n",
       "1           1  00001a8f-993f-4d69-8fd2-f7d69dc1e8ef   \n",
       "2           2  00002cfc-8170-4a93-a1f8-aa5681cb5f71   \n",
       "3           3  00004467-fdef-41bc-bc73-20c68444a024   \n",
       "4           4  000044ca-a4d7-46a2-81da-7ef3bf4cbeeb   \n",
       "\n",
       "                                              prompt  \\\n",
       "0  man waking up, dark and still room, cinematic ...   \n",
       "1  Yate con familia feliz navegando por el mar ca...   \n",
       "2  Many friendly alien race individuals. fantasy,...   \n",
       "3  theo james as cyclops, cyberpunk futuristic ne...   \n",
       "4  Portrait of a beautiful woman with long hair o...   \n",
       "\n",
       "                                                 url  width  height  \\\n",
       "0  https://krea-prod-v1-generations.s3.us-east-1....    512     512   \n",
       "1  https://image.lexica.art/full_jpg/00001a8f-993...    640     640   \n",
       "2  https://image.lexica.art/full_jpg/00002cfc-817...    512     768   \n",
       "3  https://image.lexica.art/full_jpg/00004467-fde...    512     768   \n",
       "4  https://image.lexica.art/full_jpg/000044ca-a4d...    512     768   \n",
       "\n",
       "              source_site  \n",
       "0  stablediffusionweb.com  \n",
       "1              lexica.art  \n",
       "2              lexica.art  \n",
       "3              lexica.art  \n",
       "4              lexica.art  "
      ]
     },
     "execution_count": 4,
     "metadata": {},
     "output_type": "execute_result"
    }
   ],
   "source": [
    "data.head()"
   ]
  },
  {
   "cell_type": "markdown",
   "id": "f956d5b6-1021-49e4-94cd-fdd3a8745631",
   "metadata": {},
   "source": [
    "# Filter out relevant data\n",
    "We do not need anything else other than the prompt column"
   ]
  },
  {
   "cell_type": "code",
   "execution_count": 5,
   "id": "df6f42e9-795c-4944-b71a-33323efbb7cb",
   "metadata": {
    "tags": []
   },
   "outputs": [
    {
     "data": {
      "text/plain": [
       "0    man waking up, dark and still room, cinematic ...\n",
       "1    Yate con familia feliz navegando por el mar ca...\n",
       "2    Many friendly alien race individuals. fantasy,...\n",
       "3    theo james as cyclops, cyberpunk futuristic ne...\n",
       "4    Portrait of a beautiful woman with long hair o...\n",
       "Name: prompt, dtype: object"
      ]
     },
     "execution_count": 5,
     "metadata": {},
     "output_type": "execute_result"
    }
   ],
   "source": [
    "data = data['prompt']\n",
    "data.head()"
   ]
  },
  {
   "cell_type": "code",
   "execution_count": 6,
   "id": "6b453d96-87f7-4c10-af22-99230da44de3",
   "metadata": {
    "tags": []
   },
   "outputs": [
    {
     "data": {
      "text/plain": [
       "907953"
      ]
     },
     "execution_count": 6,
     "metadata": {},
     "output_type": "execute_result"
    }
   ],
   "source": [
    "len(data)"
   ]
  },
  {
   "cell_type": "markdown",
   "id": "7057630b-2021-45eb-8d76-6f5d7163737e",
   "metadata": {},
   "source": [
    "# Split the data to train and test splits\n",
    "We will go for the standard 80-20 split"
   ]
  },
  {
   "cell_type": "code",
   "execution_count": 9,
   "id": "a7de69f9-5018-4527-a3ec-12ca0c27ff51",
   "metadata": {
    "tags": []
   },
   "outputs": [
    {
     "data": {
      "text/plain": [
       "((726362,), (181590,))"
      ]
     },
     "execution_count": 9,
     "metadata": {},
     "output_type": "execute_result"
    }
   ],
   "source": [
    "eighty_pct = 0.8*data.shape[0] \n",
    "  \n",
    "train_set = data.loc[:eighty_pct-1] \n",
    "test_set = data.loc[eighty_pct:] \n",
    "  \n",
    "train_set.shape, test_set.shape "
   ]
  },
  {
   "cell_type": "code",
   "execution_count": 10,
   "id": "77296cef-d05e-4579-b160-d005b1a8fea7",
   "metadata": {
    "tags": []
   },
   "outputs": [],
   "source": [
    "train_set.to_csv('train.csv', index=False)\n",
    "test_set.to_csv('test.csv', index=False)"
   ]
  },
  {
   "cell_type": "markdown",
   "id": "10403b57-5c59-4130-b400-e10ed2491f44",
   "metadata": {},
   "source": [
    "# Upload the train and test splits to s3"
   ]
  },
  {
   "cell_type": "code",
   "execution_count": 11,
   "id": "dbdfd29f-d1c4-4b60-b202-08e76b3ee80b",
   "metadata": {
    "tags": []
   },
   "outputs": [
    {
     "name": "stdout",
     "output_type": "stream",
     "text": [
      "upload: data/test.csv to s3://diffusion-data/test.csv               \n",
      "upload: data/diffusion_prompts.csv to s3://diffusion-data/diffusion_prompts.csv\n",
      "upload: data/train.csv to s3://diffusion-data/train.csv             \n"
     ]
    }
   ],
   "source": [
    "!aws s3 cp data s3://diffusion-data/ --recursive"
   ]
  },
  {
   "cell_type": "code",
   "execution_count": null,
   "id": "f4287ca3-6bff-42d8-9c5c-2e89e037ed96",
   "metadata": {},
   "outputs": [],
   "source": []
  }
 ],
 "metadata": {
  "kernelspec": {
   "display_name": "conda_pytorch_p310",
   "language": "python",
   "name": "conda_pytorch_p310"
  },
  "language_info": {
   "codemirror_mode": {
    "name": "ipython",
    "version": 3
   },
   "file_extension": ".py",
   "mimetype": "text/x-python",
   "name": "python",
   "nbconvert_exporter": "python",
   "pygments_lexer": "ipython3",
   "version": "3.10.14"
  }
 },
 "nbformat": 4,
 "nbformat_minor": 5
}
